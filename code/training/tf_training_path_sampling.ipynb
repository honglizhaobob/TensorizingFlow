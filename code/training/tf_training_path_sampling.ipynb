{
 "cells": [
  {
   "cell_type": "code",
   "execution_count": 1,
   "id": "1665c9b9",
   "metadata": {},
   "outputs": [
    {
     "data": {
      "text/plain": [
       "<torch._C.Generator at 0x7fa9ca1c4fb0>"
      ]
     },
     "execution_count": 1,
     "metadata": {},
     "output_type": "execute_result"
    }
   ],
   "source": [
    "# import utility functions\n",
    "import utils\n",
    "from utils.flow_models import *\n",
    "from utils.target import *\n",
    "from utils.training import *\n",
    "\n",
    "# import pytorch\n",
    "import torch\n",
    "import torch.optim as optim\n",
    "import torch.nn as nn\n",
    "import torch.nn.functional as F\n",
    "import torch.distributions as distrib\n",
    "import torch.distributions.transforms as transform\n",
    "# set number of threads\n",
    "torch.set_num_threads(8)\n",
    "\n",
    "# numerical libs\n",
    "import scipy\n",
    "import scipy.io\n",
    "\n",
    "# import plotting\n",
    "import matplotlib.pyplot as plt\n",
    "%matplotlib inline\n",
    "\n",
    "# import I/O\n",
    "import os\n",
    "import sys\n",
    "\n",
    "# set seed\n",
    "seed = 2\n",
    "np.random.seed(seed)\n",
    "torch.manual_seed(0)"
   ]
  },
  {
   "cell_type": "markdown",
   "id": "f16171be",
   "metadata": {},
   "source": [
    "## TF + ResNet"
   ]
  },
  {
   "cell_type": "code",
   "execution_count": null,
   "id": "561f716f",
   "metadata": {},
   "outputs": [],
   "source": [
    "# load tensorizing flow dataset\n",
    "tf_dataset = utils.datasets.TensorizingFlowDataset(\"pathsampling_fullrank_small.mat\", gaussian_data=True)\n",
    "# initialize NF model\n",
    "tpt_tf = NormalizingFlow(dim=tf_dataset.dim, blocks=RESNET_PATH, \\\n",
    "                            flow_length=3)\n",
    "\n",
    "# begin training\n",
    "gl1d_anti_tf_report = train(tf_dataset, tpt_tf, tpt_logpdf, \n",
    "          num_epochs=200,\n",
    "          batch_size=2**9,\n",
    "          verbose=True,\n",
    "          lr=1e-5, \n",
    "          use_scheduler=True,\n",
    "          grad_clip=1e+4, \n",
    "          schedule_rate=0.999)"
   ]
  },
  {
   "cell_type": "code",
   "execution_count": null,
   "id": "964f0840",
   "metadata": {},
   "outputs": [],
   "source": []
  },
  {
   "cell_type": "markdown",
   "id": "d5b9dbdb",
   "metadata": {},
   "source": [
    "### Full Rank Statistics"
   ]
  },
  {
   "cell_type": "code",
   "execution_count": null,
   "id": "2827d7c5",
   "metadata": {},
   "outputs": [],
   "source": [
    "# load data\n",
    "fullrank_data = scipy.io.loadmat(\"./data/pathsampling_fullrank_small.mat\")"
   ]
  },
  {
   "cell_type": "code",
   "execution_count": null,
   "id": "d38a9b12",
   "metadata": {},
   "outputs": [],
   "source": [
    "log_prior = torch.tensor(fullrank_data['prior_logpdf'], requires_grad=True)\n",
    "data = torch.tensor(fullrank_data['X'].T, requires_grad=True)"
   ]
  },
  {
   "cell_type": "code",
   "execution_count": null,
   "id": "544b432d",
   "metadata": {},
   "outputs": [],
   "source": [
    "kl_loss = torch.mean((log_prior + path_action(data).reshape(-1, 1))).item()\n",
    "kl_loss"
   ]
  },
  {
   "cell_type": "code",
   "execution_count": null,
   "id": "dbed7215",
   "metadata": {},
   "outputs": [],
   "source": [
    "# mean path \n",
    "mean_path = data.mean(0).detach().numpy()\n",
    "std_path = data.std(0).detach().numpy()"
   ]
  },
  {
   "cell_type": "code",
   "execution_count": null,
   "id": "e4797b67",
   "metadata": {},
   "outputs": [],
   "source": [
    "# save data\n",
    "scipy.io.savemat(\"./utils/full_rank_stats9.mat\", {'tpt': {'mean': mean_path, 'std': std_path, \\\n",
    "                                                      'loss': kl_loss}})"
   ]
  },
  {
   "cell_type": "code",
   "execution_count": null,
   "id": "e5cd3a6d",
   "metadata": {},
   "outputs": [],
   "source": [
    "scipy.io.loadmat(\"./utils/full_rank_stats9.mat\")['tpt']['loss'][0][0][0]"
   ]
  },
  {
   "cell_type": "markdown",
   "id": "3a88f774",
   "metadata": {},
   "source": [
    "### Other Testing"
   ]
  },
  {
   "cell_type": "code",
   "execution_count": null,
   "id": "68941f22",
   "metadata": {},
   "outputs": [],
   "source": []
  },
  {
   "cell_type": "code",
   "execution_count": null,
   "id": "785f542d",
   "metadata": {},
   "outputs": [],
   "source": []
  },
  {
   "cell_type": "code",
   "execution_count": null,
   "id": "a1db30f8",
   "metadata": {},
   "outputs": [],
   "source": []
  },
  {
   "cell_type": "code",
   "execution_count": null,
   "id": "90dda09f",
   "metadata": {},
   "outputs": [],
   "source": []
  },
  {
   "cell_type": "code",
   "execution_count": null,
   "id": "280b8207",
   "metadata": {},
   "outputs": [],
   "source": []
  }
 ],
 "metadata": {
  "kernelspec": {
   "display_name": "Python 3 (ipykernel)",
   "language": "python",
   "name": "python3"
  },
  "language_info": {
   "codemirror_mode": {
    "name": "ipython",
    "version": 3
   },
   "file_extension": ".py",
   "mimetype": "text/x-python",
   "name": "python",
   "nbconvert_exporter": "python",
   "pygments_lexer": "ipython3",
   "version": "3.9.7"
  }
 },
 "nbformat": 4,
 "nbformat_minor": 5
}
