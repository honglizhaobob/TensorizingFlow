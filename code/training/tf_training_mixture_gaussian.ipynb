{
 "cells": [
  {
   "cell_type": "code",
   "execution_count": 1,
   "id": "a3006bee",
   "metadata": {},
   "outputs": [],
   "source": [
    "# import utility functions\n",
    "import utils\n",
    "from utils.flow_models import *\n",
    "from utils.target import *\n",
    "from utils.training import *\n",
    "\n",
    "# import pytorch\n",
    "import torch\n",
    "import torch.optim as optim\n",
    "import torch.nn as nn\n",
    "import torch.nn.functional as F\n",
    "import torch.distributions as distrib\n",
    "import torch.distributions.transforms as transform\n",
    "# set number of threads\n",
    "torch.set_num_threads(8)\n",
    "\n",
    "# numerical libs\n",
    "import scipy\n",
    "import scipy.io\n",
    "\n",
    "# import plotting\n",
    "import matplotlib.pyplot as plt\n",
    "%matplotlib inline\n",
    "\n",
    "# import I/O\n",
    "import os\n",
    "import sys\n",
    "\n",
    "# set seed\n",
    "seed = 14\n",
    "np.random.seed(seed)\n",
    "torch.manual_seed(0)\n",
    "\n",
    "def loss_func_init(x, prior_logpdf, targ_logpdf):\n",
    "        \"\"\" evaluate initial KL divergence between posterior distribution (NF + prior) \n",
    "        and target. x is samples without flow. This is a Monte-Carlo estimation of the \n",
    "        log partition function. \"\"\"\n",
    "        return (prior_logpdf - targ_logpdf(x)).mean()\n",
    "    "
   ]
  },
  {
   "cell_type": "markdown",
   "id": "c84c269c",
   "metadata": {},
   "source": [
    "## Rank 2 + ResNet"
   ]
  },
  {
   "cell_type": "code",
   "execution_count": null,
   "id": "4d004cf8",
   "metadata": {},
   "outputs": [],
   "source": [
    "# the wrapper is necessary, need to load mean and std data for each mixture Gaussian first\n",
    "mixture_gauss_tf_dataset = utils.datasets.TensorizingFlowDataset(\"mixture_gaussian_patterned_truncated.mat\", \\\n",
    "                                                              gaussian_data=False)\n",
    "# input mean and std to wrapper\n",
    "mu_input = np.array([mixture_gauss_tf_dataset.raw_dataset['mu1'][0], \\\n",
    "                     mixture_gauss_tf_dataset.raw_dataset['mu2'][0], \\\n",
    "                     mixture_gauss_tf_dataset.raw_dataset['mu3'][0], \\\n",
    "                     mixture_gauss_tf_dataset.raw_dataset['mu4'][0], \\\n",
    "                     mixture_gauss_tf_dataset.raw_dataset['mu5'][0]])\n",
    "std_input = np.array([mixture_gauss_tf_dataset.raw_dataset['covmat1'], \\\n",
    "                      mixture_gauss_tf_dataset.raw_dataset['covmat2'], \\\n",
    "                      mixture_gauss_tf_dataset.raw_dataset['covmat3'], \\\n",
    "                      mixture_gauss_tf_dataset.raw_dataset['covmat4'], \\\n",
    "                      mixture_gauss_tf_dataset.raw_dataset['covmat5']])\n",
    "\n",
    "def mixture_gaussian_logpdf_wrapper(theta, mu_list=mu_input, sig_list=std_input):\n",
    "    return mixture_gaussian_logpdf(theta, mu_list, sig_list, scaling=2)\n",
    "\n",
    "\n",
    "# initialize NF model\n",
    "mixture_flow = NormalizingFlow(dim=mixture_gauss_tf_dataset.dim, blocks=RESNET_BLOCKS2_MIXTURE_GAUSSIAN, \\\n",
    "                            flow_length=5)\n",
    "\n",
    "# begin training\n",
    "mixture_report = train(mixture_gauss_tf_dataset, mixture_flow, mixture_gaussian_logpdf_wrapper, \n",
    "          num_epochs=100,\n",
    "          batch_size=2**7,\n",
    "          verbose=True,\n",
    "          lr=5e-4,\n",
    "          use_scheduler=True,\n",
    "          grad_clip=1e+4)\n",
    "    \n",
    "scipy.io.savemat(\"./mixture_gaussian_tf_resnet_seed{}.mat\".format(seed), {\"report\": mixture_report})"
   ]
  },
  {
   "cell_type": "code",
   "execution_count": null,
   "id": "fc6d56f2",
   "metadata": {},
   "outputs": [],
   "source": [
    "X = mixture_report['post_training_samples'].copy()"
   ]
  },
  {
   "cell_type": "code",
   "execution_count": null,
   "id": "76d0465a",
   "metadata": {},
   "outputs": [],
   "source": [
    "X.shape"
   ]
  },
  {
   "cell_type": "code",
   "execution_count": null,
   "id": "30bacacc",
   "metadata": {},
   "outputs": [],
   "source": [
    "plt.scatter(X[:, 28], X[:, 29], s=1.2)"
   ]
  },
  {
   "cell_type": "markdown",
   "id": "5faa8acd",
   "metadata": {},
   "source": [
    "## Normalizing"
   ]
  },
  {
   "cell_type": "code",
   "execution_count": null,
   "id": "5f9c8e7b",
   "metadata": {},
   "outputs": [],
   "source": [
    "# the wrapper is necessary, need to load mean and std data for each mixture Gaussian first\n",
    "mixture_gauss_nf_dataset = utils.datasets.TensorizingFlowDataset(\"mixture_gaussian_patterned_truncated.mat\", \\\n",
    "                                                              gaussian_data=True)\n",
    "# input mean and std to wrapper\n",
    "mu_input = np.array([mixture_gauss_nf_dataset.raw_dataset['mu1'][0], \\\n",
    "                     mixture_gauss_nf_dataset.raw_dataset['mu2'][0], \\\n",
    "                     mixture_gauss_nf_dataset.raw_dataset['mu3'][0], \\\n",
    "                     mixture_gauss_nf_dataset.raw_dataset['mu4'][0], \\\n",
    "                     mixture_gauss_nf_dataset.raw_dataset['mu5'][0]])\n",
    "std_input = np.array([mixture_gauss_nf_dataset.raw_dataset['covmat1'], \\\n",
    "                      mixture_gauss_nf_dataset.raw_dataset['covmat2'], \\\n",
    "                      mixture_gauss_nf_dataset.raw_dataset['covmat3'], \\\n",
    "                      mixture_gauss_nf_dataset.raw_dataset['covmat4'], \\\n",
    "                      mixture_gauss_nf_dataset.raw_dataset['covmat5']])\n",
    "\n",
    "def mixture_gaussian_logpdf_wrapper(theta, mu_list=mu_input, sig_list=std_input):\n",
    "    return mixture_gaussian_logpdf(theta, mu_list, sig_list, scaling=2)\n",
    "\n",
    "\n",
    "# initialize NF model\n",
    "mixture_flow = NormalizingFlow(dim=mixture_gauss_nf_dataset.dim, blocks=RESNET_BLOCKS2_MIXTURE_GAUSSIAN, \\\n",
    "                            flow_length=5)\n",
    "\n",
    "# begin training\n",
    "mixture_report2 = train(mixture_gauss_nf_dataset, mixture_flow, mixture_gaussian_logpdf_wrapper, \n",
    "          num_epochs=200,\n",
    "          batch_size=2**7,\n",
    "          verbose=True,\n",
    "          lr=4e-4, \n",
    "          use_scheduler=True,\n",
    "          grad_clip=1e+4)\n",
    "    \n",
    "scipy.io.savemat(\"./mixture_gaussian_nf_resnet_seed{}.mat\".format(seed), {\"report\": mixture_report2})"
   ]
  },
  {
   "cell_type": "markdown",
   "id": "26ae1c92",
   "metadata": {},
   "source": [
    "## Visual Comparison"
   ]
  },
  {
   "cell_type": "code",
   "execution_count": null,
   "id": "505e38ce",
   "metadata": {},
   "outputs": [],
   "source": []
  },
  {
   "cell_type": "code",
   "execution_count": null,
   "id": "ee04df1f",
   "metadata": {},
   "outputs": [],
   "source": []
  },
  {
   "cell_type": "code",
   "execution_count": null,
   "id": "dc34a16d",
   "metadata": {},
   "outputs": [],
   "source": []
  },
  {
   "cell_type": "code",
   "execution_count": null,
   "id": "9d98ec7d",
   "metadata": {},
   "outputs": [],
   "source": []
  },
  {
   "cell_type": "code",
   "execution_count": null,
   "id": "28a1246a",
   "metadata": {},
   "outputs": [],
   "source": []
  }
 ],
 "metadata": {
  "kernelspec": {
   "display_name": "Python 3 (ipykernel)",
   "language": "python",
   "name": "python3"
  },
  "language_info": {
   "codemirror_mode": {
    "name": "ipython",
    "version": 3
   },
   "file_extension": ".py",
   "mimetype": "text/x-python",
   "name": "python",
   "nbconvert_exporter": "python",
   "pygments_lexer": "ipython3",
   "version": "3.9.12"
  }
 },
 "nbformat": 4,
 "nbformat_minor": 5
}
