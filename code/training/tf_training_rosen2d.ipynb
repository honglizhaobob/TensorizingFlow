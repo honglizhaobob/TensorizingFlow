{
 "cells": [
  {
   "cell_type": "code",
   "execution_count": 1,
   "id": "2d222106",
   "metadata": {},
   "outputs": [],
   "source": [
    "# import utility functions\n",
    "import utils\n",
    "from utils.flow_models import *\n",
    "from utils.target import *\n",
    "from utils.training import *\n",
    "\n",
    "# import pytorch\n",
    "import torch\n",
    "import torch.optim as optim\n",
    "import torch.nn as nn\n",
    "import torch.nn.functional as F\n",
    "import torch.distributions as distrib\n",
    "import torch.distributions.transforms as transform\n",
    "# set number of threads\n",
    "torch.set_num_threads(8)\n",
    "\n",
    "# numerical libs\n",
    "import scipy\n",
    "import scipy.io\n",
    "\n",
    "# import plotting\n",
    "import matplotlib.pyplot as plt\n",
    "%matplotlib inline\n",
    "\n",
    "# import I/O\n",
    "import os\n",
    "import sys\n",
    "\n",
    "# set seed\n",
    "np.random.seed(8)\n",
    "torch.manual_seed(0)\n",
    "\n",
    "def loss_func_init(x, prior_logpdf, targ_logpdf):\n",
    "        \"\"\" evaluate initial KL divergence between posterior distribution (NF + prior) \n",
    "        and target. x is samples without flow. This is a Monte-Carlo estimation of the \n",
    "        log partition function. \"\"\"\n",
    "        return (prior_logpdf - targ_logpdf(x)).mean()"
   ]
  },
  {
   "cell_type": "markdown",
   "id": "067173fd",
   "metadata": {},
   "source": [
    "## Rank 30 + ResNet"
   ]
  },
  {
   "cell_type": "code",
   "execution_count": null,
   "id": "007038b7",
   "metadata": {},
   "outputs": [],
   "source": [
    "# load tensorizing flow dataset\n",
    "double_rosen_tf_dataset = utils.datasets.TensorizingFlowDataset(\"double_rosen3d_truncated.mat\", gaussian_data=False)\n",
    "# initialize NF model\n",
    "rosen_flow = NormalizingFlow(dim=double_rosen_tf_dataset.dim, blocks=RESNET_BLOCKS2_DROSEN3, \\\n",
    "                            flow_length=4)\n",
    "\n",
    "# begin training\n",
    "rosen_report = train(double_rosen_tf_dataset, rosen_flow, double_rosen_logpdf3d, \n",
    "          num_epochs=100,\n",
    "          batch_size=2**8,\n",
    "          verbose=True,\n",
    "          lr=3e-4, \n",
    "          use_scheduler=True,\n",
    "          grad_clip=1e+4)"
   ]
  },
  {
   "cell_type": "code",
   "execution_count": null,
   "id": "574e258a",
   "metadata": {},
   "outputs": [],
   "source": []
  },
  {
   "cell_type": "code",
   "execution_count": null,
   "id": "527559c2",
   "metadata": {},
   "outputs": [],
   "source": []
  },
  {
   "cell_type": "code",
   "execution_count": null,
   "id": "72b4e50f",
   "metadata": {},
   "outputs": [],
   "source": []
  },
  {
   "cell_type": "code",
   "execution_count": null,
   "id": "bb6ff868",
   "metadata": {},
   "outputs": [],
   "source": []
  },
  {
   "cell_type": "code",
   "execution_count": null,
   "id": "cbeb283b",
   "metadata": {},
   "outputs": [],
   "source": []
  },
  {
   "cell_type": "code",
   "execution_count": null,
   "id": "72b11538",
   "metadata": {},
   "outputs": [],
   "source": []
  },
  {
   "cell_type": "markdown",
   "id": "03d1c866",
   "metadata": {},
   "source": [
    "## Normalizing Flow"
   ]
  },
  {
   "cell_type": "code",
   "execution_count": null,
   "id": "1e70a4f9",
   "metadata": {},
   "outputs": [],
   "source": [
    "# load tensorizing flow dataset\n",
    "double_rosen_nf_dataset = utils.datasets.TensorizingFlowDataset(\"double_rosen3d_truncated.mat\", gaussian_data=True)\n",
    "# initialize NF model\n",
    "rosen_flow = NormalizingFlow(dim=double_rosen_nf_dataset.dim, blocks=RESNET_BLOCKS2_DROSEN3, \\\n",
    "                            flow_length=4)\n",
    "\n",
    "# begin training\n",
    "rosen_nf_report = train(double_rosen_nf_dataset, rosen_flow, double_rosen_logpdf3d, \n",
    "          num_epochs=100,\n",
    "          batch_size=2**8,\n",
    "          verbose=True,\n",
    "          lr=3e-4, \n",
    "          use_scheduler=True,\n",
    "          grad_clip=1e+4)"
   ]
  },
  {
   "cell_type": "markdown",
   "id": "623012ab",
   "metadata": {},
   "source": [
    "## Compare Training Results"
   ]
  },
  {
   "cell_type": "markdown",
   "id": "49a941ad",
   "metadata": {},
   "source": [
    "## Plot Training Curve"
   ]
  },
  {
   "cell_type": "code",
   "execution_count": null,
   "id": "27f34c72",
   "metadata": {},
   "outputs": [],
   "source": [
    "plt.figure(1);\n",
    "plt.plot(rosen_report['test_loss'], label='tensorizing')\n",
    "plt.plot(rosen_nf_report['test_loss'], label='normalizing')\n",
    "plt.ylim([14, 20])\n",
    "plt.legend()"
   ]
  },
  {
   "cell_type": "code",
   "execution_count": null,
   "id": "d25d609a",
   "metadata": {},
   "outputs": [],
   "source": []
  },
  {
   "cell_type": "markdown",
   "id": "5e273fd0",
   "metadata": {},
   "source": [
    "## Compare Samples"
   ]
  },
  {
   "cell_type": "code",
   "execution_count": null,
   "id": "e954ac1d",
   "metadata": {},
   "outputs": [],
   "source": [
    "plt.figure(2, figsize=(6, 5));\n",
    "plt.scatter(rosen_report['post_training_samples'][:, -2], rosen_report['post_training_samples'][:, -1], \\\n",
    "            label='tensor', s=1.2)\n",
    "plt.scatter(rosen_nf_report['post_training_samples'][:, -2], rosen_nf_report['post_training_samples'][:, -1], \\\n",
    "            label='normal', s=1.2)\n",
    "plt.legend()"
   ]
  },
  {
   "cell_type": "code",
   "execution_count": null,
   "id": "4937f68d",
   "metadata": {},
   "outputs": [],
   "source": []
  },
  {
   "cell_type": "markdown",
   "id": "a825ccde",
   "metadata": {},
   "source": [
    "## Full Rank Statistics"
   ]
  },
  {
   "cell_type": "code",
   "execution_count": null,
   "id": "9cf2b362",
   "metadata": {},
   "outputs": [],
   "source": [
    "full_rank_data = scipy.io.loadmat('./data/double_rosen3d_full_rank.mat')['X']\n",
    "full_rank_loglikes = np.log(scipy.io.loadmat('./data/double_rosen3d_full_rank.mat')['likes'])\n",
    "\n",
    "mean = full_rank_data.mean(1) \n",
    "std = full_rank_data.std(1)\n",
    "# compute KL divergence before NF training\n",
    "opt_kl = loss_func_init(torch.Tensor(full_rank_data.T),\\\n",
    "                        torch.Tensor(full_rank_loglikes), double_rosen_logpdf3d)\n",
    "\n",
    "opt_kl = opt_kl.item()"
   ]
  },
  {
   "cell_type": "code",
   "execution_count": null,
   "id": "c2a660ca",
   "metadata": {},
   "outputs": [],
   "source": [
    "# save exact stats\n",
    "double_rosen3 = {'mean': mean, 'std': std, 'loss': opt_kl}\n",
    "scipy.io.savemat('./utils/full_rank_stats5.mat', {'double_rosen3': double_rosen3})"
   ]
  },
  {
   "cell_type": "code",
   "execution_count": 2,
   "id": "c2b52d65",
   "metadata": {},
   "outputs": [],
   "source": [
    "# delete\n",
    "full_rank_data = scipy.io.loadmat('./data/gl1d_spin_glass_new_rank1.mat')['X']\n",
    "full_rank_loglikes = np.log(scipy.io.loadmat('./data/gl1d_spin_glass_new_rank1.mat')['likes'])\n",
    "\n",
    "mean = full_rank_data.mean(1) \n",
    "std = full_rank_data.std(1)\n",
    "# compute KL divergence before NF training\n",
    "opt_kl = loss_func_init(torch.Tensor(full_rank_data.T),\\\n",
    "                        torch.Tensor(full_rank_loglikes), ginzburg_landau1d_spin_logpdf)\n",
    "\n",
    "opt_kl = opt_kl.item()"
   ]
  },
  {
   "cell_type": "code",
   "execution_count": 3,
   "id": "a14fd3f0",
   "metadata": {},
   "outputs": [
    {
     "data": {
      "text/plain": [
       "-9.296208484449766"
      ]
     },
     "execution_count": 3,
     "metadata": {},
     "output_type": "execute_result"
    }
   ],
   "source": [
    "opt_kl"
   ]
  },
  {
   "cell_type": "code",
   "execution_count": 7,
   "id": "462c2fbd",
   "metadata": {},
   "outputs": [
    {
     "data": {
      "text/plain": [
       "-56.26873108842776"
      ]
     },
     "execution_count": 7,
     "metadata": {},
     "output_type": "execute_result"
    }
   ],
   "source": [
    "opt_kl"
   ]
  },
  {
   "cell_type": "code",
   "execution_count": null,
   "id": "b432da7e",
   "metadata": {},
   "outputs": [],
   "source": []
  }
 ],
 "metadata": {
  "kernelspec": {
   "display_name": "Python 3 (ipykernel)",
   "language": "python",
   "name": "python3"
  },
  "language_info": {
   "codemirror_mode": {
    "name": "ipython",
    "version": 3
   },
   "file_extension": ".py",
   "mimetype": "text/x-python",
   "name": "python",
   "nbconvert_exporter": "python",
   "pygments_lexer": "ipython3",
   "version": "3.9.7"
  }
 },
 "nbformat": 4,
 "nbformat_minor": 5
}
